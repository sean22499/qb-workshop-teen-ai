{
 "cells": [
  {
   "cell_type": "markdown",
   "metadata": {},
   "source": [
    "# Lets start simple! 🤔\n",
    "- What are variables (hint: 📦)? \n",
    "- What will happen when I do the following? "
   ]
  },
  {
   "cell_type": "code",
   "execution_count": null,
   "metadata": {},
   "outputs": [],
   "source": [
    "a = 3\n",
    "b = 5\n",
    "print(a + b)"
   ]
  },
  {
   "cell_type": "markdown",
   "metadata": {},
   "source": [
    "# What are types? 🤔\n",
    "\n",
    "- What's is the difference between the items below? \n",
    "- What will happen if we try to add them together?  "
   ]
  },
  {
   "cell_type": "code",
   "execution_count": null,
   "metadata": {},
   "outputs": [],
   "source": [
    "a = 3\n",
    "b = '5'\n",
    "c = 10.4\n",
    "\n",
    "for item in (a, b, c):\n",
    "    print(item, type(item))\n",
    "    \n",
    "# a + b + c"
   ]
  },
  {
   "cell_type": "markdown",
   "metadata": {},
   "source": [
    "# Why is `python` known as a 'dynamically typed' language? 🤔\n",
    "- Any ideas why this is now popular?\n",
    "- Why is this sometimes a headache? \n",
    "- What does `set` do in variable `d`? (hint: 🔴🔵)\n",
    "- What type of object is `e`? "
   ]
  },
  {
   "cell_type": "code",
   "execution_count": null,
   "metadata": {
    "collapsed": true
   },
   "outputs": [],
   "source": [
    "a = 1\n",
    "b = 'Hello'\n",
    "c = [1, 2, 3, 4, 5, 6]\n",
    "d = set([1,1,2,3,4,5,6,7,7]) # Does anyone know what this does?\n",
    "e = {\n",
    "    'first_name': 'Jane', \n",
    "    'last_name': 'Smith'\n",
    "} "
   ]
  },
  {
   "cell_type": "markdown",
   "metadata": {},
   "source": [
    "## Let's do some looping 🏄‍♂️\n",
    "- What will the code below do?\n",
    "- Who can explain what the whitespace under the `for` loop does?"
   ]
  },
  {
   "cell_type": "code",
   "execution_count": null,
   "metadata": {},
   "outputs": [],
   "source": [
    "qb_people = ['Margaux', 'Eloise', 'Tanya', 'Estelle', 'Joel', 'Roshni']\n",
    "\n",
    "upper_case_people = []\n",
    "for person in sorted(qb_people):\n",
    "    upper_case_people.append(person.upper())\n",
    "    \n",
    "print(upper_case_people)"
   ]
  },
  {
   "cell_type": "markdown",
   "metadata": {},
   "source": [
    "# Do some stuff with lists... 🚀\n",
    "- How would you get the first item from the list?\n",
    "- How would you get the last item from the list?\n",
    "- How would you get all items, bar the last item in the list?\n",
    "- Given the list '`qb_people`' how would you answer the question above in one line?"
   ]
  },
  {
   "cell_type": "code",
   "execution_count": null,
   "metadata": {
    "collapsed": true
   },
   "outputs": [],
   "source": [
    "# COMPLETE HERE"
   ]
  },
  {
   "cell_type": "markdown",
   "metadata": {},
   "source": [
    "# Python let's you stand on the shoulders of gaints 💪\n",
    "\n",
    "- You can install `176,330` projects public projects using `pip`\n",
    "- If you need to something there is probably a library for it already\n",
    "- You can work with tabular data using Pandas 🐼\n",
    "- You can even [image black holes for the first time in history](https://github.com/achael/eht-imaging) (look at their stack!)\n"
   ]
  },
  {
   "cell_type": "markdown",
   "metadata": {},
   "source": [
    "## Why Jupyter is great 😎\n",
    "- `ju`[lia]`py`[thon]`r`\n",
    "- You can combine code + plots + data + documentation\n",
    "- All Data Science at Netflix is performed at scale [using Jupyter](https://medium.com/netflix-techblog/scheduling-notebooks-348e6c14cfd6)\n",
    "- However, there are [some very good counter arguments](https://www.youtube.com/watch?v=7jiPeIFXb6U) too\n",
    "- In normal python you can always do this:"
   ]
  },
  {
   "cell_type": "code",
   "execution_count": null,
   "metadata": {},
   "outputs": [],
   "source": [
    "import pandas as pd\n",
    "\n",
    "help(pd.to_datetime)"
   ]
  },
  {
   "cell_type": "markdown",
   "metadata": {},
   "source": [
    "## but in jupyter, look what happens when you do the following... 🏎"
   ]
  },
  {
   "cell_type": "code",
   "execution_count": null,
   "metadata": {
    "collapsed": true
   },
   "outputs": [],
   "source": [
    "pd.read_csv( # press shift+tab with the cursor after the fist bracket"
   ]
  },
  {
   "cell_type": "markdown",
   "metadata": {},
   "source": [
    "## With no parameter, the `dir` function takes the global scope"
   ]
  },
  {
   "cell_type": "code",
   "execution_count": null,
   "metadata": {},
   "outputs": [],
   "source": [
    "[x for x in dir() if not x.startswith('_')] "
   ]
  },
  {
   "cell_type": "markdown",
   "metadata": {},
   "source": [
    "## The `dir` function is basically auto-complete behind the scenes\n",
    "\n",
    "There are conventions here, you don't need to understand all of them\n",
    "\n",
    "- `UpperCase`\n",
    "- `__dunder__`\n",
    "- `_private_func`\n",
    "- `public_func`"
   ]
  },
  {
   "cell_type": "code",
   "execution_count": null,
   "metadata": {},
   "outputs": [],
   "source": [
    "dir(pd)"
   ]
  },
  {
   "cell_type": "markdown",
   "metadata": {},
   "source": [
    "## You don't even need to use python in your jupyter notebooks"
   ]
  },
  {
   "cell_type": "code",
   "execution_count": null,
   "metadata": {},
   "outputs": [],
   "source": [
    "%%bash\n",
    "\n",
    "curl http://wttr.in/London?format=3"
   ]
  },
  {
   "cell_type": "markdown",
   "metadata": {},
   "source": [
    "## But if you wanted to do it in python you could..."
   ]
  },
  {
   "cell_type": "code",
   "execution_count": null,
   "metadata": {},
   "outputs": [],
   "source": [
    "import requests\n",
    "\n",
    "requests.get('http://wttr.in/London?format=3').text.strip()"
   ]
  }
 ],
 "metadata": {
  "kernelspec": {
   "display_name": "Python 3",
   "language": "python",
   "name": "python3"
  },
  "language_info": {
   "codemirror_mode": {
    "name": "ipython",
    "version": 3
   },
   "file_extension": ".py",
   "mimetype": "text/x-python",
   "name": "python",
   "nbconvert_exporter": "python",
   "pygments_lexer": "ipython3",
   "version": "3.6.3"
  }
 },
 "nbformat": 4,
 "nbformat_minor": 2
}
