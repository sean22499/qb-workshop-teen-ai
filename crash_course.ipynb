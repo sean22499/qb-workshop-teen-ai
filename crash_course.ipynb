{
 "cells": [
  {
   "cell_type": "markdown",
   "metadata": {},
   "source": [
    "# Lets start simple! 🤔\n",
    "- What are variables (hint: 📦)? \n",
    "- What will happen when I do the following? "
   ]
  },
  {
   "cell_type": "code",
   "execution_count": 3,
   "metadata": {},
   "outputs": [
    {
     "name": "stdout",
     "output_type": "stream",
     "text": [
      "8\n"
     ]
    }
   ],
   "source": [
    "a = 3\n",
    "b = 5\n",
    "print(a + b)"
   ]
  },
  {
   "cell_type": "markdown",
   "metadata": {},
   "source": [
    "# What are types? 🤔\n",
    "\n",
    "- What's is the difference between the items below? \n",
    "- What will happen if we try to add them together?  "
   ]
  },
  {
   "cell_type": "code",
   "execution_count": 8,
   "metadata": {},
   "outputs": [
    {
     "name": "stdout",
     "output_type": "stream",
     "text": [
      "3 <class 'int'>\n",
      "5 <class 'str'>\n",
      "10.4 <class 'float'>\n"
     ]
    }
   ],
   "source": [
    "a = 3\n",
    "b = '5'\n",
    "c = 10.4\n",
    "\n",
    "for item in (a, b, c):\n",
    "    print(item, type(item))\n",
    "    \n",
    "# a + b + c"
   ]
  },
  {
   "cell_type": "markdown",
   "metadata": {},
   "source": [
    "# Why is `python` known as a 'dynamically typed' language? 🤔\n",
    "- Any ideas why this is now popular?\n",
    "- Why is this sometimes a headache? \n",
    "- What does `set` do in variable `d`? (hint: 🔴🔵)\n",
    "- What type of object is `e`? "
   ]
  },
  {
   "cell_type": "code",
   "execution_count": 6,
   "metadata": {
    "collapsed": true
   },
   "outputs": [],
   "source": [
    "a = 1\n",
    "b = 'Hello'\n",
    "c = [1, 2, 3, 4, 5, 6]\n",
    "d = set([1,1,2,3,4,5,6,7,7]) # Does anyone know what this does?\n",
    "e = {\n",
    "    'first_name': 'Jane', \n",
    "    'last_name': 'Smith'\n",
    "} "
   ]
  },
  {
   "cell_type": "markdown",
   "metadata": {},
   "source": [
    "## Let's do some looping 🏄‍♂️\n",
    "- What will the code below do?\n",
    "- Who can explain what the whitespace under the `for` loop does?"
   ]
  },
  {
   "cell_type": "code",
   "execution_count": 25,
   "metadata": {},
   "outputs": [
    {
     "name": "stdout",
     "output_type": "stream",
     "text": [
      "['ELOISE', 'ESTELLE', 'JOEL', 'MARGAUX', 'ROSHNI', 'TANYA']\n"
     ]
    }
   ],
   "source": [
    "qb_people = ['Margaux', 'Eloise', 'Tanya', 'Estelle', 'Joel', 'Roshni']\n",
    "\n",
    "upper_case_people = []\n",
    "for person in sorted(qb_people):\n",
    "    upper_case_people.append(person.upper())\n",
    "    \n",
    "print(upper_case_people)"
   ]
  },
  {
   "cell_type": "markdown",
   "metadata": {},
   "source": [
    "# Do some stuff with lists... 🚀\n",
    "- How would you get the first item from the list?\n",
    "- How would you get the last item from the list?\n",
    "- How would you get all items, bar the last item in the list?\n",
    "- Given the list '`qb_people`' how would you answer the question above in one line?"
   ]
  },
  {
   "cell_type": "code",
   "execution_count": 26,
   "metadata": {},
   "outputs": [],
   "source": [
    "# COMPLETE HERE"
   ]
  },
  {
   "cell_type": "markdown",
   "metadata": {},
   "source": [
    "# Python let's you stand on the shoulders of gaints 💪\n",
    "\n",
    "- You can install `176,330` projects public projects using `pip`\n",
    "- If you need to something there is probably a library for it already\n",
    "- You can work with tabular data using Pandas 🐼\n",
    "- You can even [image black holes for the first time in history](https://github.com/achael/eht-imaging) (look at their stack!)\n"
   ]
  },
  {
   "cell_type": "code",
   "execution_count": null,
   "metadata": {
    "collapsed": true
   },
   "outputs": [],
   "source": []
  }
 ],
 "metadata": {
  "kernelspec": {
   "display_name": "Python 3",
   "language": "python",
   "name": "python3"
  },
  "language_info": {
   "codemirror_mode": {
    "name": "ipython",
    "version": 3
   },
   "file_extension": ".py",
   "mimetype": "text/x-python",
   "name": "python",
   "nbconvert_exporter": "python",
   "pygments_lexer": "ipython3",
   "version": "3.6.3"
  }
 },
 "nbformat": 4,
 "nbformat_minor": 2
}
